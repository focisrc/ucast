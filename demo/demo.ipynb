{
 "cells": [
  {
   "cell_type": "code",
   "execution_count": 1,
   "id": "broad-thesis",
   "metadata": {},
   "outputs": [],
   "source": [
    "%load_ext autoreload\n",
    "%autoreload 2\n",
    "\n",
    "import numpy  as np\n",
    "import pandas as pd\n",
    "\n",
    "import ucast  as uc\n",
    "\n",
    "from matplotlib import pyplot as plt"
   ]
  },
  {
   "cell_type": "code",
   "execution_count": 2,
   "id": "progressive-reunion",
   "metadata": {},
   "outputs": [],
   "source": [
    "am           = uc.am.AM()\n",
    "site         = uc.site.KP\n",
    "latest_cycle = uc.gfs.latest_cycle()"
   ]
  },
  {
   "cell_type": "code",
   "execution_count": 3,
   "id": "requested-fraction",
   "metadata": {},
   "outputs": [
    {
     "data": {
      "text/plain": [
       "Site(name='KP', lat=31.956, lon=-111.612, alt=1902.0)"
      ]
     },
     "execution_count": 3,
     "metadata": {},
     "output_type": "execute_result"
    }
   ],
   "source": [
    "site"
   ]
  },
  {
   "cell_type": "code",
   "execution_count": 4,
   "id": "daily-palace",
   "metadata": {},
   "outputs": [
    {
     "data": {
      "text/plain": [
       "datetime.datetime(2021, 4, 12, 0, 0)"
      ]
     },
     "execution_count": 4,
     "metadata": {},
     "output_type": "execute_result"
    }
   ],
   "source": [
    "latest_cycle"
   ]
  },
  {
   "cell_type": "code",
   "execution_count": 5,
   "id": "outstanding-speaker",
   "metadata": {},
   "outputs": [
    {
     "data": {
      "text/plain": [
       "'https://nomads.ncep.noaa.gov/cgi-bin/filter_gfs_0p25_1hr.pl?file=gfs.t00z.pgrb2.0p25.anl&lev_1_mb=on&lev_2_mb=on&lev_3_mb=on&lev_5_mb=on&lev_7_mb=on&lev_10_mb=on&lev_20_mb=on&lev_30_mb=on&lev_50_mb=on&lev_70_mb=on&lev_100_mb=on&lev_150_mb=on&lev_200_mb=on&lev_250_mb=on&lev_300_mb=on&lev_350_mb=on&lev_400_mb=on&lev_450_mb=on&lev_500_mb=on&lev_550_mb=on&lev_600_mb=on&lev_650_mb=on&lev_700_mb=on&lev_750_mb=on&lev_800_mb=on&lev_850_mb=on&lev_900_mb=on&lev_925_mb=on&lev_950_mb=on&lev_975_mb=on&lev_1000_mb=on&var_HGT=on&var_TMP=on&var_O3MR=on&var_RH=on&var_CLWMR=on&var_ICMR=on&subregion=&leftlon=-111.75&rightlon=-111.5&toplat=32.0&bottomlat=31.75&dir=%2Fgfs.20210412%2F00%2Fatmos'"
      ]
     },
     "execution_count": 5,
     "metadata": {},
     "output_type": "execute_result"
    }
   ],
   "source": [
    "uc.gfs.nomads.data_url(site, latest_cycle, None, 0.25)"
   ]
  },
  {
   "cell_type": "code",
   "execution_count": null,
   "id": "verbal-halloween",
   "metadata": {},
   "outputs": [],
   "source": [
    "gfs = uc.gfs.GFS(site, latest_cycle, 0)"
   ]
  },
  {
   "cell_type": "code",
   "execution_count": null,
   "id": "banned-million",
   "metadata": {
    "scrolled": false
   },
   "outputs": [],
   "source": [
    "cfg, Tb, RHb = uc.radtran.am.config.config(gfs)"
   ]
  },
  {
   "cell_type": "code",
   "execution_count": null,
   "id": "invisible-mills",
   "metadata": {},
   "outputs": [],
   "source": [
    "print(cfg)"
   ]
  },
  {
   "cell_type": "code",
   "execution_count": null,
   "id": "downtown-candle",
   "metadata": {
    "scrolled": true
   },
   "outputs": [],
   "source": [
    "Tb"
   ]
  },
  {
   "cell_type": "code",
   "execution_count": null,
   "id": "solid-retro",
   "metadata": {},
   "outputs": [],
   "source": [
    "RHb"
   ]
  },
  {
   "cell_type": "code",
   "execution_count": null,
   "id": "swedish-ownership",
   "metadata": {},
   "outputs": [],
   "source": [
    "sol = am.solve(gfs)\n",
    "\n",
    "print(sol)"
   ]
  },
  {
   "cell_type": "code",
   "execution_count": null,
   "id": "hispanic-tower",
   "metadata": {},
   "outputs": [],
   "source": []
  }
 ],
 "metadata": {
  "kernelspec": {
   "display_name": "Python 3",
   "language": "python",
   "name": "python3"
  },
  "language_info": {
   "codemirror_mode": {
    "name": "ipython",
    "version": 3
   },
   "file_extension": ".py",
   "mimetype": "text/x-python",
   "name": "python",
   "nbconvert_exporter": "python",
   "pygments_lexer": "ipython3",
   "version": "3.8.9"
  }
 },
 "nbformat": 4,
 "nbformat_minor": 5
}
