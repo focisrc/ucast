{
  "nbformat": 4,
  "nbformat_minor": 5,
  "metadata": {
    "kernelspec": {
      "display_name": "Python 3",
      "language": "python",
      "name": "python3"
    },
    "language_info": {
      "codemirror_mode": {
        "name": "ipython",
        "version": 3
      },
      "file_extension": ".py",
      "mimetype": "text/x-python",
      "name": "python",
      "nbconvert_exporter": "python",
      "pygments_lexer": "ipython3",
      "version": "3.8.8"
    },
    "colab": {
      "name": "ucast_stencil.ipynb",
      "provenance": [],
      "collapsed_sections": [],
      "include_colab_link": true
    }
  },
  "cells": [
    {
      "cell_type": "markdown",
      "metadata": {
        "id": "view-in-github",
        "colab_type": "text"
      },
      "source": [
        "<a href=\"https://colab.research.google.com/github/phanicode/ucast/blob/main/ucast_stencil.ipynb\" target=\"_parent\"><img src=\"https://colab.research.google.com/assets/colab-badge.svg\" alt=\"Open In Colab\"/></a>"
      ]
    },
    {
      "cell_type": "code",
      "metadata": {
        "id": "a607a7eb-9c23-4a89-ba65-ae2b6291a41b"
      },
      "source": [
        "from collections import namedtuple\n",
        "\n",
        "Site = namedtuple('Site', ['name', 'lat', 'lon', 'alt'])\n",
        "\n",
        "ALMA = Site('ALMA', -23.029,  -67.755, 5070.4)\n",
        "APEX = Site('APEX', -23.006,  -67.759, 5104.5)\n",
        "GLT  = Site('GLT',   76.5312, -68.7039,  76.5)\n",
        "JCMT = Site('JCMT',  19.823, -155.477, 4120.1)\n",
        "KP   = Site('KP',    31.956, -111.612, 1902.0)\n",
        "LMT  = Site('LMT',   18.985,  -97.315, 4600.0)\n",
        "PDB  = Site('PDB',   44.634,    5.907, 2616.4)\n",
        "PV   = Site('PV',    37.066,   -3.393, 2921.7)\n",
        "SMA  = Site('SMA',   19.822, -155.476, 4110.3)\n",
        "SMT  = Site('SMT',   32.702, -109.891, 3158.7)\n",
        "SPT  = Site('SPT',  -90.000,   45.000, 2857.4)"
      ],
      "id": "a607a7eb-9c23-4a89-ba65-ae2b6291a41b",
      "execution_count": 1,
      "outputs": []
    },
    {
      "cell_type": "code",
      "metadata": {
        "id": "BGwveRrM1h-r"
      },
      "source": [
        "import requests\n",
        "import urllib\n",
        "import pandas as pd\n",
        "\n",
        "# USGS Elevation Point Query Service\n",
        "url = r'https://nationalmap.gov/epqs/pqs.php?'\n",
        "def elevation_function(lat,lon):\n",
        "    \"\"\"Query service using lat, lon. add the elevation values as a new column.\"\"\"\n",
        "    lat=[lat]\n",
        "    lon=[lon]\n",
        "    for lat, lon in zip(lat,lon):\n",
        "        # define rest query params\n",
        "        params = {\n",
        "            'output': 'json',\n",
        "            'x': lon,\n",
        "            'y': lat,\n",
        "            'units': 'Meters'\n",
        "        }\n",
        "        # format query string and return query value\n",
        "        result = requests.get((url + urllib.parse.urlencode(params)))\n",
        "        return float(result.json()['USGS_Elevation_Point_Query_Service']['Elevation_Query']['Elevation'])\n",
        "\n",
        "\n"
      ],
      "id": "BGwveRrM1h-r",
      "execution_count": 5,
      "outputs": []
    },
    {
      "cell_type": "code",
      "metadata": {
        "id": "FzvTDYqg1T_A"
      },
      "source": [
        "def get_sites(sites,stencil_size=1,grid_size=0.25):\n",
        "        for site in sites:\n",
        "            globals()[f\"{site.name}_{stencil_size}_E\"] = Site(f\"{site.name}_{stencil_size}_E\", site.lat,site.lon+0.25*stencil_size,elevation_function(site.lat,site.lon+0.25*stencil_size))\n",
        "            globals()[f\"{site.name}_{stencil_size}_W\"] = Site(f\"{site.name}_{stencil_size}_W\", site.lat,site.lon-0.25*stencil_size,elevation_function(site.lat,site.lon-0.25*stencil_size))\n",
        "            globals()[f\"{site.name}_{stencil_size}_S\"] = Site(f\"{site.name}_{stencil_size}_S\", site.lat-0.25*stencil_size,site.lon,elevation_function(site.lat-0.25*stencil_size,site.lon))\n",
        "            globals()[f\"{site.name}_{stencil_size}_N\"] = Site(f\"{site.name}_{stencil_size}_N\",site.lat+0.25*stencil_size,site.lon,elevation_function(site.lat+0.25*stencil_size,site.lon))\n",
        "            globals()[f\"{site.name}_{stencil_size}_SW\"] = Site(f\"{site.name}_{stencil_size}_SW\",site.lat-0.25*stencil_size,site.lon-0.25*stencil_size,elevation_function(site.lat-0.25*stencil_size,site.lon+0.25*stencil_size))\n",
        "            globals()[f\"{site.name}_{stencil_size}_SE\"] = Site(f\"{site.name}_{stencil_size}_SE\",site.lat-0.25*stencil_size,site.lon+0.25*stencil_size,elevation_function(site.lat+0.25*stencil_size,site.lon+0.25*stencil_size))\n",
        "            globals()[f\"{site.name}_{stencil_size}_NW\"] = Site(f\"{site.name}_{stencil_size}_NW\",site.lat+0.25*stencil_size,site.lon-0.25*stencil_size,elevation_function(site.lat-0.25*stencil_size,site.lon+0.25*stencil_size))\n",
        "            globals()[f\"{site.name}_{stencil_size}_NE\"] = Site(f\"{site.name}_{stencil_size}_NE\",site.lat+0.25*stencil_size,site.lon+0.25*stencil_size,elevation_function(site.lat+0.25*stencil_size,site.lon-0.25*stencil_size))"
      ],
      "id": "FzvTDYqg1T_A",
      "execution_count": 31,
      "outputs": []
    },
    {
      "cell_type": "code",
      "metadata": {
        "id": "KAPZrfdx1g6r"
      },
      "source": [
        ""
      ],
      "id": "KAPZrfdx1g6r",
      "execution_count": null,
      "outputs": []
    },
    {
      "cell_type": "code",
      "metadata": {
        "id": "f32fbdc8-de1e-4de2-bb06-c5aa0d1be6e3"
      },
      "source": [
        ""
      ],
      "id": "f32fbdc8-de1e-4de2-bb06-c5aa0d1be6e3",
      "execution_count": 36,
      "outputs": []
    },
    {
      "cell_type": "code",
      "metadata": {
        "id": "44ea47ce-b9d7-4335-afc8-6d853feb6599"
      },
      "source": [
        "# Getting a stencil for site. Default value is 1 (for one stencil grid)\n",
        "get_sites([KP])"
      ],
      "id": "44ea47ce-b9d7-4335-afc8-6d853feb6599",
      "execution_count": 38,
      "outputs": []
    },
    {
      "cell_type": "code",
      "metadata": {
        "id": "08dab6f5-f9c2-47bd-9c8d-aa8381f69f2e"
      },
      "source": [
        ""
      ],
      "id": "08dab6f5-f9c2-47bd-9c8d-aa8381f69f2e",
      "execution_count": null,
      "outputs": []
    },
    {
      "cell_type": "code",
      "metadata": {
        "colab": {
          "base_uri": "https://localhost:8080/"
        },
        "id": "2ed95356-ab5c-492e-8f6d-e9f0c6ef595e",
        "outputId": "97e3e4cf-d8d8-4e16-e93a-6ddd8dea0f7c"
      },
      "source": [
        "import gc\n",
        "from math import floor\n",
        "# print(subregion_query(KP.lat,KP.lon))\n",
        "for obj in gc.get_objects():\n",
        "    if isinstance(obj, Site) and \"KP\" in obj.name:\n",
        "        print(obj)"
      ],
      "id": "2ed95356-ab5c-492e-8f6d-e9f0c6ef595e",
      "execution_count": 33,
      "outputs": [
        {
          "output_type": "stream",
          "name": "stdout",
          "text": [
            "#Site(name='KP_1_E', lat=31.956, lon=-111.362, alt=901.75)\n",
            "Site(name='KP_1_W', lat=31.956, lon=-111.862, alt=795.67)\n",
            "Site(name='KP_1_S', lat=31.706, lon=-111.612, alt=1450.67)\n",
            "Site(name='KP_1_N', lat=32.206, lon=-111.612, alt=667.91)\n",
            "Site(name='KP_1_SW', lat=31.706, lon=-111.862, alt=1034.09)\n",
            "Site(name='KP_1_SE', lat=31.706, lon=-111.362, alt=769.82)\n",
            "Site(name='KP_1_NW', lat=32.206, lon=-111.862, alt=1034.09)\n",
            "Site(name='KP_1_NE', lat=32.206, lon=-111.362, alt=671.47)\n",
            "Site(name='KP', lat=31.956, lon=-111.612, alt=1902.0)\n"
          ]
        }
      ]
    },
    {
      "cell_type": "code",
      "metadata": {
        "id": "16eaee97-717c-4d6a-a413-c64f3213ea0d"
      },
      "source": [
        "#North site.lat,site.lon+0.25\n",
        "#South site.lat,site.lon-0.25\n",
        "#West site.lat+0.25,site.lon\n",
        "#East site.lat-0.25,site.lon\n",
        "\n",
        "#NE site.lat-0.25,site.lon+0.25\n",
        "#NW site.lat+0.25,site.lon+0.25\n",
        "#SE site.lat-0.25,site.lon+0.25\n",
        "#SW site.lat+0.25,site.lon-0.25"
      ],
      "id": "16eaee97-717c-4d6a-a413-c64f3213ea0d",
      "execution_count": null,
      "outputs": []
    },
    {
      "cell_type": "code",
      "metadata": {
        "id": "bdUwKZo62e-0"
      },
      "source": [
        ""
      ],
      "id": "bdUwKZo62e-0",
      "execution_count": null,
      "outputs": []
    },
    {
      "cell_type": "code",
      "metadata": {
        "id": "a61481f7-244c-4d2a-906c-49d0efd3d04c"
      },
      "source": [
        "from math import floor"
      ],
      "id": "a61481f7-244c-4d2a-906c-49d0efd3d04c",
      "execution_count": null,
      "outputs": []
    },
    {
      "cell_type": "code",
      "metadata": {
        "id": "ecacdc62-9bbb-44b9-981e-bfd3d58665c7"
      },
      "source": [
        "def subregion_query(lat, lon, gridsz=0.25):\n",
        "    \"\"\"Query string for the grid subset request.\"\"\"\n",
        "    l = floor(lon / gridsz) * gridsz\n",
        "    b = floor(lat / gridsz) * gridsz\n",
        "    r = l + gridsz\n",
        "    t = b + gridsz\n",
        "    print(l,\",\",t)\n",
        "    print(l,\",\",b)\n",
        "    print(r,\",\",t)\n",
        "    print(r,\",\",b)\n",
        "#     print( f\"subregion=&leftlon={l}&rightlon={r}&toplat={t}&bottomlat={b}\")"
      ],
      "id": "ecacdc62-9bbb-44b9-981e-bfd3d58665c7",
      "execution_count": 9,
      "outputs": []
    },
    {
      "cell_type": "code",
      "metadata": {
        "id": "7c26ce52-2fae-40e4-a6a7-1e6aa955e6e2",
        "outputId": "7891cc90-bd77-439e-95b8-ddaca14b5179"
      },
      "source": [
        ""
      ],
      "id": "7c26ce52-2fae-40e4-a6a7-1e6aa955e6e2",
      "execution_count": null,
      "outputs": [
        {
          "name": "stdout",
          "output_type": "stream",
          "text": [
            "original lon -111.362\n",
            "lon, lon_2: -111.362 -111.5\n"
          ]
        }
      ]
    },
    {
      "cell_type": "code",
      "metadata": {
        "colab": {
          "base_uri": "https://localhost:8080/"
        },
        "id": "b8bb6965-8342-4bb3-8606-6e5588f15b8c",
        "outputId": "1ac156e8-5a7d-4e09-8669-e933f4d62271"
      },
      "source": [
        "import gc\n",
        "from math import floor\n",
        "\n",
        "# FIT NEW COORDINATES TO GRID\n",
        "for obj in gc.get_objects():\n",
        "    if isinstance(obj, Site) and \"KP\" in obj.name:\n",
        "        print(obj,subregion_query(obj.lat,obj.lon))"
      ],
      "id": "b8bb6965-8342-4bb3-8606-6e5588f15b8c",
      "execution_count": 36,
      "outputs": [
        {
          "output_type": "stream",
          "name": "stdout",
          "text": [
            "-111.75 , 32.0\n",
            "-111.75 , 31.75\n",
            "-111.5 , 32.0\n",
            "-111.5 , 31.75\n",
            "Site(name='KP', lat=31.956, lon=-111.612, alt=1902.0) None\n",
            "-111.5 , 32.0\n",
            "-111.5 , 31.75\n",
            "-111.25 , 32.0\n",
            "-111.25 , 31.75\n",
            "Site(name='KP_1_E', lat=31.956, lon=-111.362, alt=901.75) None\n",
            "-112.0 , 32.0\n",
            "-112.0 , 31.75\n",
            "-111.75 , 32.0\n",
            "-111.75 , 31.75\n",
            "Site(name='KP_1_W', lat=31.956, lon=-111.862, alt=795.67) None\n",
            "-111.75 , 31.75\n",
            "-111.75 , 31.5\n",
            "-111.5 , 31.75\n",
            "-111.5 , 31.5\n",
            "Site(name='KP_1_S', lat=31.706, lon=-111.612, alt=1450.67) None\n",
            "-111.75 , 32.25\n",
            "-111.75 , 32.0\n",
            "-111.5 , 32.25\n",
            "-111.5 , 32.0\n",
            "Site(name='KP_1_N', lat=32.206, lon=-111.612, alt=667.91) None\n",
            "-112.0 , 31.75\n",
            "-112.0 , 31.5\n",
            "-111.75 , 31.75\n",
            "-111.75 , 31.5\n",
            "Site(name='KP_1_SW', lat=31.706, lon=-111.862, alt=1034.09) None\n",
            "-111.5 , 31.75\n",
            "-111.5 , 31.5\n",
            "-111.25 , 31.75\n",
            "-111.25 , 31.5\n",
            "Site(name='KP_1_SE', lat=31.706, lon=-111.362, alt=769.82) None\n",
            "-112.0 , 32.25\n",
            "-112.0 , 32.0\n",
            "-111.75 , 32.25\n",
            "-111.75 , 32.0\n",
            "Site(name='KP_1_NW', lat=32.206, lon=-111.862, alt=1034.09) None\n",
            "-111.5 , 32.25\n",
            "-111.5 , 32.0\n",
            "-111.25 , 32.25\n",
            "-111.25 , 32.0\n",
            "Site(name='KP_1_NE', lat=32.206, lon=-111.362, alt=671.47) None\n"
          ]
        }
      ]
    },
    {
      "cell_type": "code",
      "metadata": {
        "tags": [],
        "id": "98949276-cf77-4526-b3b9-d91b87b11d31"
      },
      "source": [
        ""
      ],
      "id": "98949276-cf77-4526-b3b9-d91b87b11d31",
      "execution_count": null,
      "outputs": []
    },
    {
      "cell_type": "code",
      "metadata": {
        "id": "f12ae50b-4dad-45ef-aba5-264b51ef3ad4"
      },
      "source": [
        ""
      ],
      "id": "f12ae50b-4dad-45ef-aba5-264b51ef3ad4",
      "execution_count": 35,
      "outputs": []
    },
    {
      "cell_type": "code",
      "metadata": {
        "id": "c4fc9be5"
      },
      "source": [
        ""
      ],
      "id": "c4fc9be5",
      "execution_count": null,
      "outputs": []
    }
  ]
}
